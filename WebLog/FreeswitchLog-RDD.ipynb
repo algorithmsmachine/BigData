{
 "cells": [
  {
   "cell_type": "markdown",
   "id": "d820d0ae",
   "metadata": {},
   "source": [
    "# Freeswitch Log RDD\n",
    "\n",
    "## Altanai Bisht \n",
    "( abisht@seattleu.edu\n",
    "altanai.telecom.com)\n",
    "\n",
    "License GPL 3"
   ]
  },
  {
   "cell_type": "code",
   "execution_count": 1,
   "id": "f5adb2c3",
   "metadata": {},
   "outputs": [
    {
     "name": "stderr",
     "output_type": "stream",
     "text": [
      "WARNING:root:'PYARROW_IGNORE_TIMEZONE' environment variable was not set. It is required to set this environment variable to '1' in both driver and executor sides if you use pyarrow>=2.0.0. pandas-on-Spark will set it for you but it does not work if there is a Spark context already launched.\n"
     ]
    }
   ],
   "source": [
    "import pandas as pd\n",
    "import numpy as np\n",
    "import pyspark.pandas as ps\n",
    "from pyspark.sql import SparkSession\n",
    "\n",
    "spark = SparkSession.builder.getOrCreate()"
   ]
  },
  {
   "cell_type": "markdown",
   "id": "120cb2f4",
   "metadata": {},
   "source": [
    "## RDD creation\n",
    "\n",
    "PySpark RDD Benefits \n",
    "- In-Memory Processing\n",
    "- Immutability\n",
    "- Fault Tolerance\n",
    "- Lazy Evolution\n",
    "- Partitioning"
   ]
  },
  {
   "cell_type": "code",
   "execution_count": 1,
   "id": "0023866e",
   "metadata": {},
   "outputs": [],
   "source": [
    "##  RDD using sparkContext.textFile()\n",
    "# spark.sparkContext.addFile(url)\n",
    "# rdd=spark.sparkContext.parallelize(df)\n",
    "\n",
    "rdd = spark.sparkContext.textFile(\"C:\\\\Users\\\\abisht\\\\FS_logs\\\\*.csv\")"
   ]
  },
  {
   "cell_type": "code",
   "execution_count": 2,
   "id": "31511d11",
   "metadata": {},
   "outputs": [
    {
     "name": "stdout",
     "output_type": "stream",
     "text": [
      "initial partition count:2\n"
     ]
    }
   ],
   "source": [
    "print(\"initial partition count:\"+str(rdd.getNumPartitions()))"
   ]
  },
  {
   "cell_type": "code",
   "execution_count": 3,
   "id": "222b7c83",
   "metadata": {},
   "outputs": [
    {
     "name": "stderr",
     "output_type": "stream",
     "text": [
      "IOPub data rate exceeded.\n",
      "The notebook server will temporarily stop sending output\n",
      "to the client in order to avoid crashing it.\n",
      "To change this limit, set the config variable\n",
      "`--NotebookApp.iopub_data_rate_limit`.\n",
      "\n",
      "Current values:\n",
      "NotebookApp.iopub_data_rate_limit=1000000.0 (bytes/sec)\n",
      "NotebookApp.rate_limit_window=3.0 (secs)\n",
      "\n"
     ]
    }
   ],
   "source": [
    "print(rdd.collect())"
   ]
  },
  {
   "cell_type": "code",
   "execution_count": 63,
   "id": "8446e1bb",
   "metadata": {},
   "outputs": [],
   "source": [
    "## Repartition and Coalesce -  shuffles data from all nodes \n",
    "# reparRdd = rdd.repartition(4)\n",
    "# print(\"re-partition count:\"+str(reparRdd.getNumPartitions()))"
   ]
  },
  {
   "cell_type": "markdown",
   "id": "4b801142",
   "metadata": {},
   "source": [
    "### 1.b Using map-reduce RDD Transformations \n",
    "\n",
    "lambda to count the number of requests each 15 mins"
   ]
  },
  {
   "cell_type": "code",
   "execution_count": 64,
   "id": "3618dfcb",
   "metadata": {},
   "outputs": [],
   "source": [
    "## flatMap – flatMap() transformation flattens the RDD\n",
    "\n",
    "rdd2 = rdd.flatMap(lambda x: x.split(\",\"))"
   ]
  },
  {
   "cell_type": "code",
   "execution_count": 65,
   "id": "b08619dd",
   "metadata": {},
   "outputs": [
    {
     "name": "stderr",
     "output_type": "stream",
     "text": [
      "IOPub data rate exceeded.\n",
      "The notebook server will temporarily stop sending output\n",
      "to the client in order to avoid crashing it.\n",
      "To change this limit, set the config variable\n",
      "`--NotebookApp.iopub_data_rate_limit`.\n",
      "\n",
      "Current values:\n",
      "NotebookApp.iopub_data_rate_limit=1000000.0 (bytes/sec)\n",
      "NotebookApp.rate_limit_window=3.0 (secs)\n",
      "\n"
     ]
    }
   ],
   "source": [
    "print(rdd2.collect())"
   ]
  },
  {
   "cell_type": "code",
   "execution_count": 66,
   "id": "00ae33ec",
   "metadata": {},
   "outputs": [
    {
     "ename": "SyntaxError",
     "evalue": "invalid syntax (Temp/ipykernel_15560/1635476587.py, line 3)",
     "output_type": "error",
     "traceback": [
      "\u001b[1;36m  File \u001b[1;32m\"C:\\Users\\abisht\\AppData\\Local\\Temp/ipykernel_15560/1635476587.py\"\u001b[1;36m, line \u001b[1;32m3\u001b[0m\n\u001b[1;33m    rdd3 = rdd2.map(lambda x[4]: (x,1))\u001b[0m\n\u001b[1;37m                            ^\u001b[0m\n\u001b[1;31mSyntaxError\u001b[0m\u001b[1;31m:\u001b[0m invalid syntax\n"
     ]
    }
   ],
   "source": [
    "##  map() transformation\n",
    "\n",
    "rdd3 = rdd2.map(lambda x[4]: (x,1))"
   ]
  },
  {
   "cell_type": "markdown",
   "id": "5906a89a",
   "metadata": {},
   "source": [
    "**Refs**\n",
    "- https://opensource.com/article/19/5/visualize-log-data-apache-spark"
   ]
  }
 ],
 "metadata": {
  "kernelspec": {
   "display_name": "Python 3 (ipykernel)",
   "language": "python",
   "name": "python3"
  },
  "language_info": {
   "codemirror_mode": {
    "name": "ipython",
    "version": 3
   },
   "file_extension": ".py",
   "mimetype": "text/x-python",
   "name": "python",
   "nbconvert_exporter": "python",
   "pygments_lexer": "ipython3",
   "version": "3.9.7"
  }
 },
 "nbformat": 4,
 "nbformat_minor": 5
}
