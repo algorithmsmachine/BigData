{
 "cells": [
  {
   "cell_type": "markdown",
   "id": "00fc4a30-2b3c-4d9a-92d1-bf7b7c912e75",
   "metadata": {},
   "source": [
    "# Pyspark excercise"
   ]
  },
  {
   "cell_type": "code",
   "execution_count": 8,
   "id": "37dd6a27-5437-4e96-acc7-45b9d5ab7182",
   "metadata": {},
   "outputs": [],
   "source": [
    "from datetime import datetime, date\n",
    "import pandas as pd\n",
    "from pyspark.sql import Row"
   ]
  },
  {
   "cell_type": "code",
   "execution_count": 9,
   "id": "029c2167-cb90-470c-9d21-97abd4b0255c",
   "metadata": {},
   "outputs": [],
   "source": [
    "from pyspark.sql import SparkSession\n",
    "\n",
    "spark = SparkSession.builder.getOrCreate()"
   ]
  },
  {
   "cell_type": "code",
   "execution_count": 10,
   "id": "f35ca45e-c6c3-411e-9fb4-da2cfd444d8b",
   "metadata": {},
   "outputs": [],
   "source": [
    "import re\n",
    "\n",
    "# This is the regex which is specific to Apache Access Logs parsing, which can be modified according to different Log formats as per the need\n",
    "# Example Apache log line:\n",
    "#                              127.0.0.1 - - [21/Jul/2014:9:55:27 -0800] \"GET /home.html HTTP/1.1\" 200 2048\n",
    "#                              1:IP  2:client 3:user 4:date time           5:method 6:req 7:proto   8:respcode 9:size\n",
    "APACHE_ACCESS_LOG_PATTERN = '^(\\S+) (\\S+) (\\S+) \\[([\\w:/]+\\s[+\\-]\\d{4})\\] \"(\\S+) (\\S+) (\\S+)\" (\\d{3}) (\\d+)'\n",
    "\n",
    "# The below function is modelled specific to Apache Access Logs Model, which can be modified as per needs to different Logs format\n",
    "# Returns a dictionary containing the parts of the Apache Access Log.\n",
    "def parse_apache_log_line(logline):\n",
    "    match = re.search(APACHE_ACCESS_LOG_PATTERN, logline)\n",
    "    if match is None:\n",
    "        raise Error(\"Invalid logline: %s\" % logline)\n",
    "    return Row(\n",
    "        ip_address    = match.group(1),\n",
    "        client_identd = match.group(2),\n",
    "        user_id       = match.group(3),\n",
    "        date = (match.group(4)[:-6]).split(\":\", 1)[0],\n",
    "        time = (match.group(4)[:-6]).split(\":\", 1)[1],\n",
    "        method        = match.group(5),\n",
    "        endpoint      = match.group(6),\n",
    "        protocol      = match.group(7),\n",
    "        response_code = int(match.group(8)),\n",
    "        content_size  = int(match.group(9))\n",
    "    )"
   ]
  },
  {
   "cell_type": "code",
   "execution_count": 11,
   "id": "ed2ecc40-4441-4fd9-8637-c70909d106aa",
   "metadata": {},
   "outputs": [],
   "source": [
    "df = spark.createDataFrame([\n",
    "    Row(a=1, b=2., c='string1', d=date(2000, 1, 1), e=datetime(2000, 1, 1, 12, 0)),\n",
    "    Row(a=2, b=3., c='string2', d=date(2000, 2, 1), e=datetime(2000, 1, 2, 12, 0)),\n",
    "    Row(a=4, b=5., c='string3', d=date(2000, 3, 1), e=datetime(2000, 1, 3, 12, 0))\n",
    "])"
   ]
  },
  {
   "cell_type": "code",
   "execution_count": null,
   "id": "8d81d8dc-2b3c-4fa5-9613-a06dcd5e2ea5",
   "metadata": {},
   "outputs": [],
   "source": []
  }
 ],
 "metadata": {
  "kernelspec": {
   "display_name": "Python 3 (ipykernel)",
   "language": "python",
   "name": "python3"
  },
  "language_info": {
   "codemirror_mode": {
    "name": "ipython",
    "version": 3
   },
   "file_extension": ".py",
   "mimetype": "text/x-python",
   "name": "python",
   "nbconvert_exporter": "python",
   "pygments_lexer": "ipython3",
   "version": "3.9.7"
  }
 },
 "nbformat": 4,
 "nbformat_minor": 5
}
